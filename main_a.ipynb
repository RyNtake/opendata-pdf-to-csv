{
 "cells": [
  {
   "cell_type": "code",
   "execution_count": 4,
   "metadata": {},
   "outputs": [
    {
     "name": "stdout",
     "output_type": "stream",
     "text": [
      "2024-03-23 13:33:00.168739+09:00\n",
      "datetime.datetime(2024, 3, 23, 13, 33, 0, 168739, tzinfo=datetime.timezone(datetime.timedelta(seconds=32400), 'JST'))\n",
      "20240323133300\n",
      "20240323\n"
     ]
    }
   ],
   "source": [
    "import datetime\n",
    "\n",
    "t_delta = datetime.timedelta(hours=9)\n",
    "JST = datetime.timezone(t_delta, 'JST')\n",
    "now = datetime.datetime.now(JST)\n",
    "print(now)\n",
    "print(repr(now))\n",
    "\n",
    "d = now.strftime('%Y%m%d%H%M%S')\n",
    "print(d)\n",
    "\n",
    "today = now.strftime('%Y%m%d')\n",
    "print(today)\n"
   ]
  },
  {
   "cell_type": "code",
   "execution_count": 6,
   "metadata": {},
   "outputs": [],
   "source": [
    "PREFECTURES = [\n",
    "    \"北海道\",\n",
    "    \"青森県\",\n",
    "    \"岩手県\",\n",
    "    \"宮城県\",\n",
    "    \"秋田県\",\n",
    "    \"山形県\",\n",
    "    \"福島県\",\n",
    "    \"茨城県\",\n",
    "    \"栃木県\",\n",
    "    \"群馬県\",\n",
    "    \"埼玉県\",\n",
    "    \"千葉県\",\n",
    "    \"東京都\",\n",
    "    \"神奈川県\",\n",
    "    \"新潟県\",\n",
    "    \"富山県\",\n",
    "    \"石川県\",\n",
    "    \"福井県\",\n",
    "    \"山梨県\",\n",
    "    \"長野県\",\n",
    "    \"岐阜県\",\n",
    "    \"静岡県\",\n",
    "    \"愛知県\",\n",
    "    \"三重県\",\n",
    "    \"滋賀県\",\n",
    "    \"京都府\",\n",
    "    \"大阪府\",\n",
    "    \"兵庫県\",\n",
    "    \"奈良県\",\n",
    "    \"和歌山県\",\n",
    "    \"鳥取県\",\n",
    "    \"島根県\",\n",
    "    \"岡山県\",\n",
    "    \"広島県\",\n",
    "    \"山口県\",\n",
    "    \"徳島県\",\n",
    "    \"香川県\",\n",
    "    \"愛媛県\",\n",
    "    \"高知県\",\n",
    "    \"福岡県\",\n",
    "    \"佐賀県\",\n",
    "    \"長崎県\",\n",
    "    \"熊本県\",\n",
    "    \"大分県\",\n",
    "    \"宮崎県\",\n",
    "    \"鹿児島県\",\n",
    "    \"沖縄県\",\n",
    "    ]\n"
   ]
  },
  {
   "cell_type": "code",
   "execution_count": 7,
   "metadata": {},
   "outputs": [],
   "source": [
    "PREFECTURES_lower = [\n",
    "    \"hokkaido\",\n",
    "    \"aomori\",\n",
    "    \"iwate\",\n",
    "    \"miyagi\",\n",
    "    \"akita\",\n",
    "    \"yamagata\",\n",
    "    \"fukushima\",\n",
    "    \"ibaraki\",\n",
    "    \"tochigi\",\n",
    "    \"gunma\",\n",
    "    \"saitama\",\n",
    "    \"chiba\",\n",
    "    \"tokyo\",\n",
    "    \"kanagawa\",\n",
    "    \"niigata\",\n",
    "    \"toyama\",\n",
    "    \"ishikawa\",\n",
    "    \"fukui\",\n",
    "    \"yamanashi\",\n",
    "    \"nagano\",\n",
    "    \"gifu\",\n",
    "    \"shizuoka\",\n",
    "    \"aichi\",\n",
    "    \"mie\",\n",
    "    \"shiga\",\n",
    "    \"kyoto\",\n",
    "    \"osaka\",\n",
    "    \"hyogo\",\n",
    "    \"nara\",\n",
    "    \"wakayama\",\n",
    "    \"tottori\",\n",
    "    \"shimane\",\n",
    "    \"okayama\",\n",
    "    \"hiroshima\",\n",
    "    \"yamaguchi\",\n",
    "    \"tokushima\",\n",
    "    \"kagawa\",\n",
    "    \"ehime\",\n",
    "    \"kochi\",\n",
    "    \"fukuoka\",\n",
    "    \"saga\",\n",
    "    \"nagasaki\",\n",
    "    \"kumamoto\",\n",
    "    \"oita\",\n",
    "    \"miyazaki\",\n",
    "    \"kagoshima\",\n",
    "    \"okinawa\",\n",
    "]\n"
   ]
  },
  {
   "cell_type": "code",
   "execution_count": 10,
   "metadata": {},
   "outputs": [
    {
     "name": "stdout",
     "output_type": "stream",
     "text": [
      "['Hokkaido', 'Aomori', 'Iwate', 'Miyagi', 'Akita', 'Yamagata', 'Fukushima', 'Ibaraki', 'Tochigi', 'Gunma', 'Saitama', 'Chiba', 'Tokyo', 'Kanagawa', 'Niigata', 'Toyama', 'Ishikawa', 'Fukui', 'Yamanashi', 'Nagano', 'Gifu', 'Shizuoka', 'Aichi', 'Mie', 'Shiga', 'Kyoto', 'Osaka', 'Hyogo', 'Nara', 'Wakayama', 'Tottori', 'Shimane', 'Okayama', 'Hiroshima', 'Yamaguchi', 'Tokushima', 'Kagawa', 'Ehime', 'Kochi', 'Fukuoka', 'Saga', 'Nagasaki', 'Kumamoto', 'Oita', 'Miyazaki', 'Kagoshima', 'Okinawa']\n"
     ]
    }
   ],
   "source": [
    "PREFECTURES_capitalize = []\n",
    "\n",
    "for i in PREFECTURES_lower:\n",
    "  i = i.capitalize()\n",
    "  PREFECTURES_capitalize.append(i)\n",
    "\n",
    "print(PREFECTURES_capitalize)"
   ]
  }
 ],
 "metadata": {
  "kernelspec": {
   "display_name": "Python 3",
   "language": "python",
   "name": "python3"
  },
  "language_info": {
   "codemirror_mode": {
    "name": "ipython",
    "version": 3
   },
   "file_extension": ".py",
   "mimetype": "text/x-python",
   "name": "python",
   "nbconvert_exporter": "python",
   "pygments_lexer": "ipython3",
   "version": "3.11.0"
  }
 },
 "nbformat": 4,
 "nbformat_minor": 2
}
